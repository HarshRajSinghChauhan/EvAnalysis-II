{
 "cells": [
  {
   "cell_type": "code",
   "execution_count": 1,
   "id": "1f0536bd-b993-48b5-8878-e1b123b31199",
   "metadata": {},
   "outputs": [],
   "source": [
    "import pandas as pd\n",
    "\n",
    "df = pd.read_excel(\"bikedekho_ev_reviews.xlsx\")\n",
    "df = df.dropna(subset=['text'])\n"
   ]
  },
  {
   "cell_type": "code",
   "execution_count": 2,
   "id": "9f984956-4e7b-450a-93bc-ce27c1ad6f94",
   "metadata": {},
   "outputs": [],
   "source": [
    "import re\n",
    "import string\n",
    "import emoji\n",
    "from nltk.corpus import stopwords\n",
    "\n",
    "stop_words = set(stopwords.words(\"english\"))\n",
    "\n",
    "def clean_review(text):\n",
    "    if not isinstance(text, str):\n",
    "        return \"\"\n",
    "    \n",
    "    try:\n",
    "        text = text.encode('latin1').decode('utf-8')\n",
    "    except:\n",
    "        pass\n",
    "\n",
    "    # Remove emojis using the emoji library\n",
    "    text = emoji.replace_emoji(text, replace='')\n",
    "\n",
    "    # Remove HTML tags\n",
    "    text = re.sub(r'<.*?>', '', text)\n",
    "    \n",
    "    # Remove all non-ASCII characters\n",
    "    text = re.sub(r'[^\\x00-\\x7F]+', ' ', text)\n",
    "    \n",
    "    # Lowercase\n",
    "    text = text.lower()\n",
    "    \n",
    "    # Remove punctuation\n",
    "    text = text.translate(str.maketrans('', '', string.punctuation))\n",
    "    \n",
    "    # Remove stopwords\n",
    "    words = text.split()\n",
    "    words = [word for word in words if word not in stop_words]\n",
    "    \n",
    "    return ' '.join(words)"
   ]
  },
  {
   "cell_type": "code",
   "execution_count": 6,
   "id": "56576d46-f3d3-4b62-b0c4-da580bef675b",
   "metadata": {},
   "outputs": [],
   "source": [
    "#Sentiment Analysis using VADER\n",
    "\n",
    "from vaderSentiment.vaderSentiment import SentimentIntensityAnalyzer\n",
    "\n",
    "analyzer = SentimentIntensityAnalyzer()\n",
    "\n",
    "def get_sentiment_score(cleaned_review):\n",
    "    return analyzer.polarity_scores(cleaned_review)['compound']\n",
    "\n",
    "def classify_sentiment(score):\n",
    "    if score >= 0.05:\n",
    "        return \"Positive\"\n",
    "    elif score <= -0.05:\n",
    "        return \"Negative\"\n",
    "    else:\n",
    "        return \"Neutral\"\n"
   ]
  },
  {
   "cell_type": "code",
   "execution_count": 7,
   "id": "1d05c333-412f-4547-ac02-9cb3cae7bf01",
   "metadata": {},
   "outputs": [],
   "source": [
    "df['cleaned_review'] = df['text'].apply(clean_review)\n",
    "df['sentiment_score'] = df['cleaned_review'].apply(get_sentiment_score)\n",
    "df['sentiment_label'] = df['sentiment_score'].apply(classify_sentiment)\n"
   ]
  },
  {
   "cell_type": "code",
   "execution_count": 8,
   "id": "ea61f2bf-cdc2-487d-a8c8-31841747dbf7",
   "metadata": {},
   "outputs": [],
   "source": [
    "df.to_csv(\"bikedekho_reviews_with_sentiment_cleaned.csv\", index=False, encoding='utf-8')"
   ]
  },
  {
   "cell_type": "code",
   "execution_count": 10,
   "id": "8e71184c-8a0a-4a2a-abe0-02b7296d8385",
   "metadata": {},
   "outputs": [],
   "source": [
    "df.to_excel(\"bikedekho_reviews_with_sentiment_cleaned.xlsx\", index=False)"
   ]
  },
  {
   "cell_type": "code",
   "execution_count": null,
   "id": "bd3399e7-5c42-4280-844b-b4134e0d360d",
   "metadata": {},
   "outputs": [],
   "source": []
  }
 ],
 "metadata": {
  "kernelspec": {
   "display_name": "Python 3 (ipykernel)",
   "language": "python",
   "name": "python3"
  },
  "language_info": {
   "codemirror_mode": {
    "name": "ipython",
    "version": 3
   },
   "file_extension": ".py",
   "mimetype": "text/x-python",
   "name": "python",
   "nbconvert_exporter": "python",
   "pygments_lexer": "ipython3",
   "version": "3.13.1"
  }
 },
 "nbformat": 4,
 "nbformat_minor": 5
}
