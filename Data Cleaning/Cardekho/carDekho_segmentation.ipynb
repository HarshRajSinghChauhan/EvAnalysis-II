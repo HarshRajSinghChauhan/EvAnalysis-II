{
 "cells": [
  {
   "cell_type": "code",
   "execution_count": 1,
   "id": "e1e862aa-66c3-435c-b81f-f7e3bd1cfafe",
   "metadata": {},
   "outputs": [
    {
     "name": "stderr",
     "output_type": "stream",
     "text": [
      "[nltk_data] Downloading package punkt to\n",
      "[nltk_data]     C:\\Users\\harsh\\AppData\\Roaming\\nltk_data...\n",
      "[nltk_data]   Unzipping tokenizers\\punkt.zip.\n",
      "[nltk_data] Downloading package stopwords to\n",
      "[nltk_data]     C:\\Users\\harsh\\AppData\\Roaming\\nltk_data...\n",
      "[nltk_data]   Unzipping corpora\\stopwords.zip.\n"
     ]
    },
    {
     "data": {
      "text/plain": [
       "True"
      ]
     },
     "execution_count": 1,
     "metadata": {},
     "output_type": "execute_result"
    }
   ],
   "source": [
    "#Download NLTK Resources\n",
    "\n",
    "import nltk\n",
    "nltk.download('punkt')\n",
    "nltk.download('stopwords')"
   ]
  },
  {
   "cell_type": "code",
   "execution_count": 2,
   "id": "371493f9-3237-445d-858b-c06021d39e66",
   "metadata": {},
   "outputs": [],
   "source": [
    "import re\n",
    "import string\n",
    "import emoji\n",
    "from nltk.corpus import stopwords\n",
    "\n",
    "stop_words = set(stopwords.words('english'))\n",
    "\n",
    "def clean_review(text):\n",
    "    if not isinstance(text, str):\n",
    "        return \"\"\n",
    "    \n",
    "    # Remove emojis\n",
    "    text = emoji.replace_emoji(text, replace='')\n",
    "    \n",
    "    # Remove HTML tags\n",
    "    text = re.sub(r'<.*?>', '', text)\n",
    "    \n",
    "    # Lowercase\n",
    "    text = text.lower()\n",
    "    \n",
    "    # Remove punctuation\n",
    "    text = text.translate(str.maketrans('', '', string.punctuation))\n",
    "    \n",
    "    # Remove stopwords\n",
    "    words = text.split()\n",
    "    words = [word for word in words if word not in stop_words]\n",
    "    \n",
    "    # Rejoin and remove extra spaces\n",
    "    cleaned = ' '.join(words)\n",
    "    cleaned = re.sub(r'\\s+', ' ', cleaned).strip()\n",
    "    \n",
    "    return cleaned\n"
   ]
  },
  {
   "cell_type": "code",
   "execution_count": 3,
   "id": "634d7bab-f173-4185-8fa1-c6b18fecd593",
   "metadata": {},
   "outputs": [],
   "source": [
    "from vaderSentiment.vaderSentiment import SentimentIntensityAnalyzer\n",
    "\n",
    "analyzer = SentimentIntensityAnalyzer()\n",
    "\n",
    "def get_sentiment_score(text):\n",
    "    return analyzer.polarity_scores(text)['compound']\n",
    "\n",
    "def classify_sentiment(score):\n",
    "    if score >= 0.05:\n",
    "        return \"Positive\"\n",
    "    elif score <= -0.05:\n",
    "        return \"Negative\"\n",
    "    else:\n",
    "        return \"Neutral\"\n",
    "\n",
    "# Load and process\n",
    "import pandas as pd\n",
    "df = pd.read_excel(\"carDekho_cleaned_reviews.xlsx\")\n",
    "df = df.dropna(subset=['review_body'])\n",
    "df['cleaned_review'] = df['review_body'].apply(clean_review)\n",
    "df['sentiment_score'] = df['cleaned_review'].apply(get_sentiment_score)\n",
    "df['sentiment_label'] = df['sentiment_score'].apply(classify_sentiment)\n"
   ]
  },
  {
   "cell_type": "code",
   "execution_count": 5,
   "id": "0f2fd773-647b-45ba-bdd4-417b2530bc9f",
   "metadata": {},
   "outputs": [],
   "source": [
    "from vaderSentiment.vaderSentiment import SentimentIntensityAnalyzer\n",
    "\n",
    "analyzer = SentimentIntensityAnalyzer()\n",
    "\n",
    "def get_sentiment_score(text):\n",
    "    return analyzer.polarity_scores(text)['compound']\n",
    "\n",
    "def classify_sentiment(score):\n",
    "    if score >= 0.05:\n",
    "        return \"Positive\"\n",
    "    elif score <= -0.05:\n",
    "        return \"Negative\"\n",
    "    else:\n",
    "        return \"Neutral\"\n",
    "\n",
    "# Load and process\n",
    "import pandas as pd\n",
    "df = pd.read_excel(\"carDekho_cleaned_reviews.xlsx\")\n",
    "df = df.dropna(subset=['review_body'])\n",
    "df['cleaned_review'] = df['review_body'].apply(clean_review)\n",
    "df['sentiment_score'] = df['cleaned_review'].apply(get_sentiment_score)\n",
    "df['sentiment_label'] = df['sentiment_score'].apply(classify_sentiment)\n"
   ]
  },
  {
   "cell_type": "code",
   "execution_count": null,
   "id": "1ac17be1-d059-4442-8cd1-d1f8d726afc0",
   "metadata": {},
   "outputs": [],
   "source": [
    "df.to_csv(\"carDekho_reviews_with_sentiment_cleaned.csv\", index=False, encoding='utf-8')\n"
   ]
  },
  {
   "cell_type": "code",
   "execution_count": null,
   "id": "d15331c5-fca1-4c64-8de1-a04577d38b64",
   "metadata": {},
   "outputs": [],
   "source": []
  }
 ],
 "metadata": {
  "kernelspec": {
   "display_name": "Python 3 (ipykernel)",
   "language": "python",
   "name": "python3"
  },
  "language_info": {
   "codemirror_mode": {
    "name": "ipython",
    "version": 3
   },
   "file_extension": ".py",
   "mimetype": "text/x-python",
   "name": "python",
   "nbconvert_exporter": "python",
   "pygments_lexer": "ipython3",
   "version": "3.13.1"
  }
 },
 "nbformat": 4,
 "nbformat_minor": 5
}
